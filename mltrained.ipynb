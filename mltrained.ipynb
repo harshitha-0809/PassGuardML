{
 "cells": [
  {
   "cell_type": "code",
   "execution_count": 7,
   "id": "a2f92f7c",
   "metadata": {},
   "outputs": [
    {
     "name": "stdout",
     "output_type": "stream",
     "text": [
      "✅ Accuracy: 0.23333333333333334\n",
      "\n",
      "📊 Classification Report:\n",
      "\n",
      "              precision    recall  f1-score   support\n",
      "\n",
      "      Medium       0.20      0.22      0.21         9\n",
      "      Strong       0.00      0.00      0.00         7\n",
      "        Weak       0.45      0.36      0.40        14\n",
      "\n",
      "    accuracy                           0.23        30\n",
      "   macro avg       0.22      0.19      0.20        30\n",
      "weighted avg       0.27      0.23      0.25        30\n",
      "\n"
     ]
    },
    {
     "data": {
      "text/plain": [
       "['label_encoder.joblib']"
      ]
     },
     "execution_count": 7,
     "metadata": {},
     "output_type": "execute_result"
    }
   ],
   "source": [
    "import pandas as pd\n",
    "from sklearn.model_selection import train_test_split\n",
    "from sklearn.linear_model import LogisticRegression\n",
    "from sklearn.preprocessing import LabelEncoder\n",
    "from sklearn.metrics import accuracy_score, classification_report\n",
    "from joblib import dump\n",
    "\n",
    "# --- Load your custom dataset ---\n",
    "df = pd.read_csv(\"password_dataset.csv\")\n",
    "\n",
    "# --- Drop missing or invalid values ---\n",
    "df_clean = df.dropna()\n",
    "df_clean = df_clean[df_clean['strength'].isin(['Weak', 'Medium', 'Strong'])]\n",
    "\n",
    "# --- Prepare features (X) and labels (y) ---\n",
    "X = df_clean.drop(['password', 'strength'], axis=1).astype(float)\n",
    "\n",
    "le = LabelEncoder()\n",
    "y = le.fit_transform(df_clean['strength'])  # Encode strength labels\n",
    "\n",
    "# --- Train-test split ---\n",
    "X_train, X_test, y_train, y_test = train_test_split(X, y, test_size=0.3, random_state=42)\n",
    "\n",
    "# --- Train improved Logistic Regression model ---\n",
    "model = LogisticRegression(max_iter=2000, class_weight='balanced', solver='liblinear')\n",
    "model.fit(X_train, y_train)\n",
    "\n",
    "# --- Evaluate model ---\n",
    "y_pred = model.predict(X_test)\n",
    "print(\"✅ Accuracy:\", accuracy_score(y_test, y_pred))\n",
    "print(\"\\n📊 Classification Report:\\n\")\n",
    "print(classification_report(y_test, y_pred, target_names=le.classes_))\n",
    "\n",
    "# --- Save the model and encoder ---\n",
    "dump(model, \"password_strength_model_logit_improved.joblib\")\n",
    "dump(le, \"label_encoder.joblib\")\n"
   ]
  },
  {
   "cell_type": "code",
   "execution_count": null,
   "id": "b9b9a57f",
   "metadata": {},
   "outputs": [],
   "source": []
  },
  {
   "cell_type": "code",
   "execution_count": null,
   "id": "2a67e386",
   "metadata": {},
   "outputs": [
    {
     "name": "stdout",
     "output_type": "stream",
     "text": [
      "c:\\Users\\Harshitha\\Downloads\\passwordproject\n"
     ]
    }
   ],
   "source": [
    "import os\n",
    "print(os.getcwd())\n"
   ]
  },
  {
   "cell_type": "code",
   "execution_count": null,
   "id": "1d4dddf5",
   "metadata": {},
   "outputs": [
    {
     "name": "stdout",
     "output_type": "stream",
     "text": [
      "Model saved as password_strength_model.joblib\n"
     ]
    }
   ],
   "source": [
    "from joblib import dump\n",
    "\n",
    "dump(model, \"password_strength_model.joblib\")\n",
    "print(\"Model saved as password_strength_model.joblib\")\n"
   ]
  }
 ],
 "metadata": {
  "kernelspec": {
   "display_name": "Python 3",
   "language": "python",
   "name": "python3"
  },
  "language_info": {
   "codemirror_mode": {
    "name": "ipython",
    "version": 3
   },
   "file_extension": ".py",
   "mimetype": "text/x-python",
   "name": "python",
   "nbconvert_exporter": "python",
   "pygments_lexer": "ipython3",
   "version": "3.12.5"
  }
 },
 "nbformat": 4,
 "nbformat_minor": 5
}
